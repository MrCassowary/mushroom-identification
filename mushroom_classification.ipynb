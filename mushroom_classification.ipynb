{
 "cells": [
  {
   "cell_type": "markdown",
   "metadata": {},
   "source": [
    "Attribute Information: (classes: edible=e, poisonous=p)\n",
    "\n",
    "    cap-shape: bell=b,conical=c,convex=x,flat=f, knobbed=k,sunken=s\n",
    "\n",
    "    cap-surface: fibrous=f,grooves=g,scaly=y,smooth=s\n",
    "\n",
    "    cap-color: brown=n,buff=b,cinnamon=c,gray=g,green=r,pink=p,purple=u,red=e,white=w,yellow=y\n",
    "\n",
    "    bruises: bruises=t,no=f\n",
    "\n",
    "    odor: almond=a,anise=l,creosote=c,fishy=y,foul=f,musty=m,none=n,pungent=p,spicy=s\n",
    "\n",
    "    gill-attachment: attached=a,descending=d,free=f,notched=n\n",
    "\n",
    "    gill-spacing: close=c,crowded=w,distant=d\n",
    "\n",
    "    gill-size: broad=b,narrow=n\n",
    "\n",
    "    gill-color: black=k,brown=n,buff=b,chocolate=h,gray=g, green=r,orange=o,pink=p,purple=u,red=e,white=w,yellow=y\n",
    "\n",
    "    stalk-shape: enlarging=e,tapering=t\n",
    "\n",
    "    stalk-root: bulbous=b,club=c,cup=u,equal=e,rhizomorphs=z,rooted=r,missing=?\n",
    "\n",
    "    stalk-surface-above-ring: fibrous=f,scaly=y,silky=k,smooth=s\n",
    "\n",
    "    stalk-surface-below-ring: fibrous=f,scaly=y,silky=k,smooth=s\n",
    "\n",
    "    stalk-color-above-ring: brown=n,buff=b,cinnamon=c,gray=g,orange=o,pink=p,red=e,white=w,yellow=y\n",
    "\n",
    "    stalk-color-below-ring: brown=n,buff=b,cinnamon=c,gray=g,orange=o,pink=p,red=e,white=w,yellow=y\n",
    "\n",
    "    veil-type: partial=p,universal=u\n",
    "\n",
    "    veil-color: brown=n,orange=o,white=w,yellow=y\n",
    "\n",
    "    ring-number: none=n,one=o,two=t\n",
    "\n",
    "    ring-type: cobwebby=c,evanescent=e,flaring=f,large=l,none=n,pendant=p,sheathing=s,zone=z\n",
    "\n",
    "    spore-print-color: black=k,brown=n,buff=b,chocolate=h,green=r,orange=o,purple=u,white=w,yellow=y\n",
    "\n",
    "    population: abundant=a,clustered=c,numerous=n,scattered=s,several=v,solitary=y\n",
    "\n",
    "    habitat: grasses=g,leaves=l,meadows=m,paths=p,urban=u,waste=w,woods=d\n"
   ]
  },
  {
   "cell_type": "code",
   "execution_count": 272,
   "metadata": {
    "collapsed": true
   },
   "outputs": [],
   "source": [
    "import pandas as pd\n",
    "import numpy as np\n",
    "import matplotlib\n",
    "import sklearn as sk\n",
    "from sklearn.model_selection import train_test_split\n",
    "from sklearn.tree import DecisionTreeClassifier, export_graphviz\n",
    "%matplotlib inline"
   ]
  },
  {
   "cell_type": "code",
   "execution_count": 271,
   "metadata": {
    "collapsed": false
   },
   "outputs": [
    {
     "data": {
      "text/plain": [
       "[(0, 'p'), (1, 'e')]"
      ]
     },
     "execution_count": 271,
     "metadata": {},
     "output_type": "execute_result"
    }
   ],
   "source": [
    "md = pd.read_csv('~/Desktop/Machine Learning/datasets/mushrooms.csv',index_col=False)\n",
    "md.head()\n",
    "list(enumerate(md['class'].unique()))"
   ]
  },
  {
   "cell_type": "code",
   "execution_count": 270,
   "metadata": {
    "collapsed": false
   },
   "outputs": [],
   "source": [
    "#poisonous = md[md['class']=='p']"
   ]
  },
  {
   "cell_type": "code",
   "execution_count": 182,
   "metadata": {
    "collapsed": false
   },
   "outputs": [],
   "source": [
    "def encode_df(df):\n",
    "    mod = df.copy()\n",
    "    column_list = list(mod)\n",
    "    category_list = []\n",
    "    for step in range(len(column_list)):\n",
    "        category_list.append(mod[column_list[step]].unique()) \n",
    "        map_to_int = {name: n for n, name in enumerate(category_list[step])}\n",
    "        mod['target'+str(step)] = mod[column_list[step]].replace(map_to_int)\n",
    "    return mod, category_list"
   ]
  },
  {
   "cell_type": "code",
   "execution_count": 269,
   "metadata": {
    "collapsed": false
   },
   "outputs": [],
   "source": [
    "features=list(md)\n",
    "del features[0]"
   ]
  },
  {
   "cell_type": "code",
   "execution_count": 229,
   "metadata": {
    "collapsed": false
   },
   "outputs": [],
   "source": [
    "c = np.asarray(list(md))"
   ]
  },
  {
   "cell_type": "code",
   "execution_count": 262,
   "metadata": {
    "collapsed": false
   },
   "outputs": [],
   "source": [
    "pd.set_option('display.max_colwidth', 10000)"
   ]
  },
  {
   "cell_type": "code",
   "execution_count": 263,
   "metadata": {
    "collapsed": false
   },
   "outputs": [
    {
     "data": {
      "text/html": [
       "<div>\n",
       "<table border=\"1\" class=\"dataframe\">\n",
       "  <thead>\n",
       "    <tr style=\"text-align: right;\">\n",
       "      <th></th>\n",
       "      <th>feature</th>\n",
       "      <th>mappings</th>\n",
       "    </tr>\n",
       "  </thead>\n",
       "  <tbody>\n",
       "    <tr>\n",
       "      <th>0</th>\n",
       "      <td>class</td>\n",
       "      <td>[(0, p), (1, e)]</td>\n",
       "    </tr>\n",
       "    <tr>\n",
       "      <th>1</th>\n",
       "      <td>cap-shape</td>\n",
       "      <td>[(0, x), (1, b), (2, s), (3, f), (4, k), (5, c)]</td>\n",
       "    </tr>\n",
       "    <tr>\n",
       "      <th>2</th>\n",
       "      <td>cap-surface</td>\n",
       "      <td>[(0, s), (1, y), (2, f), (3, g)]</td>\n",
       "    </tr>\n",
       "    <tr>\n",
       "      <th>3</th>\n",
       "      <td>cap-color</td>\n",
       "      <td>[(0, n), (1, y), (2, w), (3, g), (4, e), (5, p), (6, b), (7, u), (8, c), (9, r)]</td>\n",
       "    </tr>\n",
       "    <tr>\n",
       "      <th>4</th>\n",
       "      <td>bruises</td>\n",
       "      <td>[(0, t), (1, f)]</td>\n",
       "    </tr>\n",
       "    <tr>\n",
       "      <th>5</th>\n",
       "      <td>odor</td>\n",
       "      <td>[(0, p), (1, a), (2, l), (3, n), (4, f), (5, c), (6, y), (7, s), (8, m)]</td>\n",
       "    </tr>\n",
       "    <tr>\n",
       "      <th>6</th>\n",
       "      <td>gill-attachment</td>\n",
       "      <td>[(0, f), (1, a)]</td>\n",
       "    </tr>\n",
       "    <tr>\n",
       "      <th>7</th>\n",
       "      <td>gill-spacing</td>\n",
       "      <td>[(0, c), (1, w)]</td>\n",
       "    </tr>\n",
       "    <tr>\n",
       "      <th>8</th>\n",
       "      <td>gill-size</td>\n",
       "      <td>[(0, n), (1, b)]</td>\n",
       "    </tr>\n",
       "    <tr>\n",
       "      <th>9</th>\n",
       "      <td>gill-color</td>\n",
       "      <td>[(0, k), (1, n), (2, g), (3, p), (4, w), (5, h), (6, u), (7, e), (8, b), (9, r), (10, y), (11, o)]</td>\n",
       "    </tr>\n",
       "    <tr>\n",
       "      <th>10</th>\n",
       "      <td>stalk-shape</td>\n",
       "      <td>[(0, e), (1, t)]</td>\n",
       "    </tr>\n",
       "    <tr>\n",
       "      <th>11</th>\n",
       "      <td>stalk-root</td>\n",
       "      <td>[(0, e), (1, c), (2, b), (3, r), (4, ?)]</td>\n",
       "    </tr>\n",
       "    <tr>\n",
       "      <th>12</th>\n",
       "      <td>stalk-surface-above-ring</td>\n",
       "      <td>[(0, s), (1, f), (2, k), (3, y)]</td>\n",
       "    </tr>\n",
       "    <tr>\n",
       "      <th>13</th>\n",
       "      <td>stalk-surface-below-ring</td>\n",
       "      <td>[(0, s), (1, f), (2, y), (3, k)]</td>\n",
       "    </tr>\n",
       "    <tr>\n",
       "      <th>14</th>\n",
       "      <td>stalk-color-above-ring</td>\n",
       "      <td>[(0, w), (1, g), (2, p), (3, n), (4, b), (5, e), (6, o), (7, c), (8, y)]</td>\n",
       "    </tr>\n",
       "    <tr>\n",
       "      <th>15</th>\n",
       "      <td>stalk-color-below-ring</td>\n",
       "      <td>[(0, w), (1, p), (2, g), (3, b), (4, n), (5, e), (6, y), (7, o), (8, c)]</td>\n",
       "    </tr>\n",
       "    <tr>\n",
       "      <th>16</th>\n",
       "      <td>veil-type</td>\n",
       "      <td>[(0, p)]</td>\n",
       "    </tr>\n",
       "    <tr>\n",
       "      <th>17</th>\n",
       "      <td>veil-color</td>\n",
       "      <td>[(0, w), (1, n), (2, o), (3, y)]</td>\n",
       "    </tr>\n",
       "    <tr>\n",
       "      <th>18</th>\n",
       "      <td>ring-number</td>\n",
       "      <td>[(0, o), (1, t), (2, n)]</td>\n",
       "    </tr>\n",
       "    <tr>\n",
       "      <th>19</th>\n",
       "      <td>ring-type</td>\n",
       "      <td>[(0, p), (1, e), (2, l), (3, f), (4, n)]</td>\n",
       "    </tr>\n",
       "    <tr>\n",
       "      <th>20</th>\n",
       "      <td>spore-print-color</td>\n",
       "      <td>[(0, k), (1, n), (2, u), (3, h), (4, w), (5, r), (6, o), (7, y), (8, b)]</td>\n",
       "    </tr>\n",
       "    <tr>\n",
       "      <th>21</th>\n",
       "      <td>population</td>\n",
       "      <td>[(0, s), (1, n), (2, a), (3, v), (4, y), (5, c)]</td>\n",
       "    </tr>\n",
       "    <tr>\n",
       "      <th>22</th>\n",
       "      <td>habitat</td>\n",
       "      <td>[(0, u), (1, g), (2, m), (3, d), (4, p), (5, w), (6, l)]</td>\n",
       "    </tr>\n",
       "  </tbody>\n",
       "</table>\n",
       "</div>"
      ],
      "text/plain": [
       "                     feature                                                                                            mappings\n",
       "0                      class                                                                                    [(0, p), (1, e)]\n",
       "1                  cap-shape                                                    [(0, x), (1, b), (2, s), (3, f), (4, k), (5, c)]\n",
       "2                cap-surface                                                                    [(0, s), (1, y), (2, f), (3, g)]\n",
       "3                  cap-color                    [(0, n), (1, y), (2, w), (3, g), (4, e), (5, p), (6, b), (7, u), (8, c), (9, r)]\n",
       "4                    bruises                                                                                    [(0, t), (1, f)]\n",
       "5                       odor                            [(0, p), (1, a), (2, l), (3, n), (4, f), (5, c), (6, y), (7, s), (8, m)]\n",
       "6            gill-attachment                                                                                    [(0, f), (1, a)]\n",
       "7               gill-spacing                                                                                    [(0, c), (1, w)]\n",
       "8                  gill-size                                                                                    [(0, n), (1, b)]\n",
       "9                 gill-color  [(0, k), (1, n), (2, g), (3, p), (4, w), (5, h), (6, u), (7, e), (8, b), (9, r), (10, y), (11, o)]\n",
       "10               stalk-shape                                                                                    [(0, e), (1, t)]\n",
       "11                stalk-root                                                            [(0, e), (1, c), (2, b), (3, r), (4, ?)]\n",
       "12  stalk-surface-above-ring                                                                    [(0, s), (1, f), (2, k), (3, y)]\n",
       "13  stalk-surface-below-ring                                                                    [(0, s), (1, f), (2, y), (3, k)]\n",
       "14    stalk-color-above-ring                            [(0, w), (1, g), (2, p), (3, n), (4, b), (5, e), (6, o), (7, c), (8, y)]\n",
       "15    stalk-color-below-ring                            [(0, w), (1, p), (2, g), (3, b), (4, n), (5, e), (6, y), (7, o), (8, c)]\n",
       "16                 veil-type                                                                                            [(0, p)]\n",
       "17                veil-color                                                                    [(0, w), (1, n), (2, o), (3, y)]\n",
       "18               ring-number                                                                            [(0, o), (1, t), (2, n)]\n",
       "19                 ring-type                                                            [(0, p), (1, e), (2, l), (3, f), (4, n)]\n",
       "20         spore-print-color                            [(0, k), (1, n), (2, u), (3, h), (4, w), (5, r), (6, o), (7, y), (8, b)]\n",
       "21                population                                                    [(0, s), (1, n), (2, a), (3, v), (4, y), (5, c)]\n",
       "22                   habitat                                            [(0, u), (1, g), (2, m), (3, d), (4, p), (5, w), (6, l)]"
      ]
     },
     "execution_count": 263,
     "metadata": {},
     "output_type": "execute_result"
    }
   ],
   "source": [
    "var = []\n",
    "for step in range(1,23):\n",
    "    var.append('target'+str(step))\n",
    "ed, lst = encode_df(md)\n",
    "for x in range(len(lst)):\n",
    "    lst[x] = list(enumerate(lst[x]))\n",
    "df= pd.DataFrame({'feature': c,'mappings':lst})\n",
    "df"
   ]
  },
  {
   "cell_type": "code",
   "execution_count": 135,
   "metadata": {
    "collapsed": false
   },
   "outputs": [],
   "source": [
    "X = ed[var]\n",
    "y = ed['target0']"
   ]
  },
  {
   "cell_type": "code",
   "execution_count": 136,
   "metadata": {
    "collapsed": false
   },
   "outputs": [],
   "source": [
    "X_train, X_test, y_train, y_test = train_test_split (X, y, test_size=0.4, random_state=0)"
   ]
  },
  {
   "cell_type": "code",
   "execution_count": 142,
   "metadata": {
    "collapsed": false
   },
   "outputs": [],
   "source": [
    "dt = DecisionTreeClassifier(min_samples_split=20, random_state=99)"
   ]
  },
  {
   "cell_type": "code",
   "execution_count": 143,
   "metadata": {
    "collapsed": false
   },
   "outputs": [
    {
     "data": {
      "text/plain": [
       "DecisionTreeClassifier(class_weight=None, criterion='gini', max_depth=None,\n",
       "            max_features=None, max_leaf_nodes=None,\n",
       "            min_impurity_split=1e-07, min_samples_leaf=1,\n",
       "            min_samples_split=20, min_weight_fraction_leaf=0.0,\n",
       "            presort=False, random_state=99, splitter='best')"
      ]
     },
     "execution_count": 143,
     "metadata": {},
     "output_type": "execute_result"
    }
   ],
   "source": [
    "dt.fit(X_train,y_train)"
   ]
  },
  {
   "cell_type": "code",
   "execution_count": 267,
   "metadata": {
    "collapsed": true
   },
   "outputs": [],
   "source": [
    "def visualize_tree(tree, feature_names):\n",
    "    \"\"\"Create tree png using graphviz.\n",
    "\n",
    "    Args\n",
    "    ----\n",
    "    tree -- scikit-learn DecsisionTree.\n",
    "    feature_names -- list of feature names.\n",
    "    \"\"\"\n",
    "    with open(\"dt.dot\", 'w') as f:\n",
    "        export_graphviz(tree, out_file=f,\n",
    "                        feature_names=feature_names)\n",
    "\n",
    "    command = [\"dot\", \"-Tpng\", \"dt.dot\", \"-o\", \"dt.png\"]\n",
    "    try:\n",
    "        subprocess.check_call(command)\n",
    "    except:\n",
    "        exit(\"Could not run dot, ie graphviz, to \"\n",
    "             \"produce visualization\")"
   ]
  },
  {
   "cell_type": "markdown",
   "metadata": {},
   "source": [
    "![title](outfile.jpg)"
   ]
  },
  {
   "cell_type": "code",
   "execution_count": 268,
   "metadata": {
    "collapsed": true
   },
   "outputs": [],
   "source": [
    "visualize_tree(dt, features)"
   ]
  },
  {
   "cell_type": "code",
   "execution_count": 274,
   "metadata": {
    "collapsed": false
   },
   "outputs": [],
   "source": [
    "predictions = dt.predict(X_test)"
   ]
  },
  {
   "cell_type": "code",
   "execution_count": 273,
   "metadata": {
    "collapsed": false
   },
   "outputs": [
    {
     "data": {
      "text/plain": [
       "1.0"
      ]
     },
     "execution_count": 273,
     "metadata": {},
     "output_type": "execute_result"
    }
   ],
   "source": [
    "sk.metrics.accuracy_score(y_test, predictions, normalize=True, sample_weight=None)"
   ]
  }
 ],
 "metadata": {
  "kernelspec": {
   "display_name": "Python 3",
   "language": "python",
   "name": "python3"
  },
  "language_info": {
   "codemirror_mode": {
    "name": "ipython",
    "version": 3
   },
   "file_extension": ".py",
   "mimetype": "text/x-python",
   "name": "python",
   "nbconvert_exporter": "python",
   "pygments_lexer": "ipython3",
   "version": "3.6.1"
  }
 },
 "nbformat": 4,
 "nbformat_minor": 2
}
